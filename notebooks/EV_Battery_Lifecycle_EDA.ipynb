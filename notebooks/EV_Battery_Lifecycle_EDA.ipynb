{
 "cells": [
  {
   "cell_type": "code",
   "execution_count": 11,
   "id": "f5381c69-35cd-4aec-b37c-8af39d01212a",
   "metadata": {},
   "outputs": [],
   "source": [
    "import pandas as pd\n",
    "\n",
    "# Load the dataset\n",
    "data = pd.read_csv(\"C:/Users/ghass/EV-Battery-Lifecycle-Analysis/data/CM_Data_Explorer May 2024.csv\")"
   ]
  },
  {
   "cell_type": "code",
   "execution_count": 13,
   "id": "4041bc3d-bd06-4bb1-8d17-129c73f0ecb6",
   "metadata": {},
   "outputs": [
    {
     "name": "stdout",
     "output_type": "stream",
     "text": [
      "                                  Unnamed: 0 Unnamed: 1  Unnamed: 2  \\\n",
      "0  Mineral demand for electric vehicles (kt)        NaN         NaN   \n",
      "1                                        NaN        NaN         NaN   \n",
      "2                                        NaN        NaN         NaN   \n",
      "3                                        NaN       2023         NaN   \n",
      "4                                        NaN        NaN         NaN   \n",
      "\n",
      "                 Unnamed: 3 Unnamed: 4 Unnamed: 5 Unnamed: 6 Unnamed: 7  \\\n",
      "0                       NaN        NaN        NaN        NaN        NaN   \n",
      "1                       NaN        NaN        NaN        NaN        NaN   \n",
      "2  Stated Policies scenario        NaN        NaN        NaN        NaN   \n",
      "3                      2030       2035       2040       2045       2050   \n",
      "4                       NaN        NaN        NaN        NaN        NaN   \n",
      "\n",
      "   Unnamed: 8                  Unnamed: 9 Unnamed: 10 Unnamed: 11 Unnamed: 12  \\\n",
      "0         NaN                         NaN         NaN         NaN         NaN   \n",
      "1         NaN                         NaN         NaN         NaN         NaN   \n",
      "2         NaN  Announced Pledges scenario         NaN         NaN         NaN   \n",
      "3         NaN                        2030        2035        2040        2045   \n",
      "4         NaN                         NaN         NaN         NaN         NaN   \n",
      "\n",
      "  Unnamed: 13  Unnamed: 14                          Unnamed: 15 Unnamed: 16  \\\n",
      "0         NaN          NaN                                  NaN         NaN   \n",
      "1         NaN          NaN                                  NaN         NaN   \n",
      "2         NaN          NaN  Net Zero Emissions by 2050 scenario         NaN   \n",
      "3        2050          NaN                                 2030        2035   \n",
      "4         NaN          NaN                                  NaN         NaN   \n",
      "\n",
      "  Unnamed: 17 Unnamed: 18 Unnamed: 19  \n",
      "0         NaN         NaN         NaN  \n",
      "1         NaN         NaN         NaN  \n",
      "2         NaN         NaN         NaN  \n",
      "3        2040        2045        2050  \n",
      "4         NaN         NaN         NaN  \n"
     ]
    }
   ],
   "source": [
    "# Display the first few rows\n",
    "print(data.head())"
   ]
  },
  {
   "cell_type": "code",
   "execution_count": 15,
   "id": "dbacb65c-750f-4b0d-9ba0-937a446443d6",
   "metadata": {},
   "outputs": [
    {
     "name": "stdout",
     "output_type": "stream",
     "text": [
      "<class 'pandas.core.frame.DataFrame'>\n",
      "RangeIndex: 93 entries, 0 to 92\n",
      "Data columns (total 20 columns):\n",
      " #   Column       Non-Null Count  Dtype  \n",
      "---  ------       --------------  -----  \n",
      " 0   Unnamed: 0   79 non-null     object \n",
      " 1   Unnamed: 1   73 non-null     object \n",
      " 2   Unnamed: 2   0 non-null      float64\n",
      " 3   Unnamed: 3   62 non-null     object \n",
      " 4   Unnamed: 4   61 non-null     object \n",
      " 5   Unnamed: 5   61 non-null     object \n",
      " 6   Unnamed: 6   61 non-null     object \n",
      " 7   Unnamed: 7   61 non-null     object \n",
      " 8   Unnamed: 8   0 non-null      float64\n",
      " 9   Unnamed: 9   62 non-null     object \n",
      " 10  Unnamed: 10  61 non-null     object \n",
      " 11  Unnamed: 11  61 non-null     object \n",
      " 12  Unnamed: 12  61 non-null     object \n",
      " 13  Unnamed: 13  61 non-null     object \n",
      " 14  Unnamed: 14  0 non-null      float64\n",
      " 15  Unnamed: 15  62 non-null     object \n",
      " 16  Unnamed: 16  61 non-null     object \n",
      " 17  Unnamed: 17  61 non-null     object \n",
      " 18  Unnamed: 18  61 non-null     object \n",
      " 19  Unnamed: 19  61 non-null     object \n",
      "dtypes: float64(3), object(17)\n",
      "memory usage: 14.7+ KB\n",
      "None\n"
     ]
    }
   ],
   "source": [
    "# Display the data types and null values\n",
    "print(data.info())"
   ]
  },
  {
   "cell_type": "code",
   "execution_count": null,
   "id": "d4fd1b19-7a07-46f5-bd2d-9bbc96894128",
   "metadata": {},
   "outputs": [],
   "source": []
  }
 ],
 "metadata": {
  "kernelspec": {
   "display_name": "Python 3 (ipykernel)",
   "language": "python",
   "name": "python3"
  },
  "language_info": {
   "codemirror_mode": {
    "name": "ipython",
    "version": 3
   },
   "file_extension": ".py",
   "mimetype": "text/x-python",
   "name": "python",
   "nbconvert_exporter": "python",
   "pygments_lexer": "ipython3",
   "version": "3.12.4"
  }
 },
 "nbformat": 4,
 "nbformat_minor": 5
}
